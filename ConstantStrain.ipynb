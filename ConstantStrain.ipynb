{
 "cells": [
  {
   "cell_type": "code",
   "execution_count": 51,
   "metadata": {},
   "outputs": [],
   "source": [
    "from math import sqrt, cos, pi, sin, asin\n",
    "from scipy.special import pbdv\n",
    "import matplotlib.pyplot as plt\n",
    "\n",
    "blah = 1\n",
    "def sign(n): return 1 if n >= 0 else -1\n",
    "\n",
    "#---------------------#\n",
    "#-- Input Variables --#\n",
    "#---------------------#\n",
    "e_charge = 1.602e-19\n",
    "c_light = 2.99792458e8\n",
    "hbar = 1.0545887e-34\n",
    "keV = e_charge*1000.\n",
    "\n",
    "E = 4.0*keV\n",
    "phi_a = 0.0\n",
    "d_h = 3.1355e-10\n",
    "pol = 's'\n",
    "\n",
    "chi_r0 =-1.0843e-4\n",
    "chi_i0 = 1.5225e-5\n",
    "\n",
    "abs_chi_rh = 5.7236e-05\n",
    "abs_chi_ih = 1.0601e-05  \n",
    "arg_crh_over_cih = -pi\n",
    "\n",
    "\n"
   ]
  },
  {
   "cell_type": "markdown",
   "metadata": {},
   "source": [
    "The amplitude ratio of reflected and refracted waves in a perfect crystal is given by \n",
    "\n",
    "$$\\xi_j=\\frac{D_{hj}}{D_{0j}}=\\frac{S(C)S(\\gamma_h)}{\\sqrt{|\\gamma|}}\\frac{\\sqrt{\\chi_h\\chi_\\bar{h}}}{\\chi_\\bar{h}}[\\eta\\pm\\sqrt{\\eta^2+S(\\gamma_h)}]$$\n",
    "\n",
    "where S(x) returns the sign of x. It follows that the rocking curve as a function of the change in incidence angle can be given by\n",
    "$$R(\\Delta\\theta)=|\\gamma|\\frac{|D_h|^2}{|D_o|^2}=|\\frac{\\chi_h}{\\chi_\\bar{h}}|\\cdot|\\eta\\pm\\sqrt{\\eta^2+S(\\gamma_h)}|^2$$\n",
    "\n",
    "with variables as functions of variables. To programatically model this equation it must be broken apart in order for the user to assign it desired values."
   ]
  },
  {
   "cell_type": "code",
   "execution_count": 54,
   "metadata": {},
   "outputs": [
    {
     "name": "stdout",
     "output_type": "stream",
     "text": [
      "E:                    4000.0  eV\n",
      "lambda:               3.0999963446023817  A\n",
      "theta_B:              29.626135647137595\n",
      "psi_0:                60.37386435286242\n",
      "psi_h:                119.62613564713759\n",
      "gamma_0:              0.49433843798475224\n",
      "gamma_h:              -0.49433843798475213\n",
      "gamma:                -0.9999999999999998\n",
      "chi_h*chi_hbar:       (3.163578495e-09-1.213517672e-09j) (3.163578495e-09-1.213517672e-09j)\n",
      "abs(chi_h/chi_hbar):  1.0 1.0\n",
      "D_theta_0s:           (0.00012616550383379022-1.7715298311071255e-05j)\n"
     ]
    },
    {
     "data": {
      "image/png": "[encoded data removed]",
      "text/plain": [
       "<matplotlib.figure.Figure at 0x7fac28449160>"
      ]
     },
     "metadata": {},
     "output_type": "display_data"
    }
   ],
   "source": [
    "#-----------------------#\n",
    "#-- Calculated Values --#\n",
    "#-----------------------#\n",
    "lam = 2.*pi*hbar*c_light/E\n",
    "theta_B = asin(0.5*lam/d_h)\n",
    "psi_0 = 0.5*pi - theta_B + phi_a\n",
    "psi_h = 0.5*pi + theta_B + phi_a\n",
    "\n",
    "C_pol = 1.0 if pol == 's' else cos(2.*theta_B)\n",
    "gamma_0 = cos(psi_0)\n",
    "gamma_h = cos(psi_h)\n",
    "gamma   = gamma_h/gamma_0\n",
    "\n",
    "chi_rhr = abs_chi_rh * sin(0.5*arg_crh_over_cih); \n",
    "chi_rhi =-abs_chi_rh * cos(0.5*arg_crh_over_cih); \n",
    "chi_ihr =-abs_chi_ih * sin(0.5*arg_crh_over_cih);\n",
    "chi_ihi =-abs_chi_ih * cos(0.5*arg_crh_over_cih);\n",
    "\n",
    "chi_0    = chi_r0  + 1j*chi_i0 \n",
    "chi_h    = chi_rhr + 1j*chi_rhi + 1j*(chi_ihr + 1j*chi_ihi)\n",
    "chi_hbar = chi_rhr - 1j*chi_rhi + 1j*(chi_ihr - 1j*chi_ihi)\n",
    "\n",
    "chih_times_chihbar = abs_chi_rh**2 - abs_chi_ih**2 + 2.0*1j*(chi_rhr*chi_ihr - chi_ihi*chi_rhi) \n",
    "abs_chih_over_chihbar = (abs_chi_rh**2 + abs_chi_ih**2 - 2.*(chi_rhr*chi_ihi - chi_rhi*chi_ihr))/(abs_chi_rh**2 + abs_chi_ih**2 + 2.*(chi_rhr*chi_ihi - chi_rhi*chi_ihr))\n",
    "\n",
    "D_theta_0s = -0.5*chi_0*(1.0 - gamma)/sin(2.0*theta_B)\n",
    "\n",
    "#---------------#\n",
    "#-- Functions --#\n",
    "#---------------#\n",
    "\n",
    "# there is something wrong with the handling of complex numbers here\n",
    "def eta(D_theta):\n",
    "\treturn (D_theta - abs(D_theta_0s)) * sin(2.0*theta_B)/(abs(C_pol)*sqrt(abs(gamma))*sqrt(abs(chih_times_chihbar)))\n",
    "\treturn (D_theta - D_theta_0s) * sin(2.0*theta_B)/(abs(C_pol)*sqrt(abs(gamma))*sqrt(chih_times_chihbar))\n",
    "\n",
    "def R(D_theta):\n",
    "\treturn abs_chih_over_chihbar * abs(eta(D_theta) - sign(eta(D_theta))*sqrt(eta(D_theta)**2 - 1.0))**2\n",
    "\n",
    "#----------------#\n",
    "#-- Print Data --#\n",
    "#----------------#\n",
    "print ('E:                   ' , E/e_charge, ' eV')\n",
    "print ('lambda:              ' , lam*1e10, ' A')\n",
    "print ('theta_B:             ' , theta_B/pi*180.)\n",
    "print ('psi_0:               ' , psi_0/pi*180.)\n",
    "print ('psi_h:               ' , psi_h/pi*180.)\n",
    "print ('gamma_0:             ' , gamma_0)\n",
    "print ('gamma_h:             ' , gamma_h)\n",
    "print ('gamma:               ' , gamma)\n",
    "print ('chi_h*chi_hbar:      ' , chih_times_chihbar, chi_h*chi_hbar)\n",
    "print ('abs(chi_h/chi_hbar): ' , abs_chih_over_chihbar, abs(chi_h/chi_hbar))\n",
    "print ('D_theta_0s:          ' , D_theta_0s)\n",
    "\n",
    "\n",
    "#----------#\n",
    "#-- Plot --#\n",
    "#----------#\n",
    "\n",
    "plt.plot([R(x/1000) for x in range(-1000,1000)])\n",
    "plt.show()\n"
   ]
  },
  {
   "cell_type": "markdown",
   "metadata": {},
   "source": [
    "The equation for the rocking curve of a crystal with a constant strain gradient is given by\n",
    "\n",
    "$$R_n(q_0)=\\frac{|\\sigma_h|^2}{4|B|}\\lvert\\frac{D(-1-\\nu,-i\\sqrt{i/4B}\\cdot q_0)}{D(-\\nu,-i\\sqrt{i/4B}\\cdot q_0)}\\rvert^2$$\n",
    "\n",
    "with variables as functions of variables. To programatically model this equation it must be broken apart in order for the user to assign it desired values.\n",
    "\n",
    "\n",
    "To begin one can extract the expression for $\\sigma_h$ and, thinking ahead, its partner $\\sigma_\\bar{h}$.\n",
    "\n",
    "$$\\sigma_h=\\frac{Ck\\chi_h}{2|\\gamma_h|},\\ \\sigma_\\bar{h}=\\frac{Ck\\chi_\\bar{h}}{2|\\gamma_\\bar{h}|}$$\n",
    "\n",
    "\n"
   ]
  },
  {
   "cell_type": "code",
   "execution_count": 53,
   "metadata": {},
   "outputs": [],
   "source": [
    "# User Inputs\n",
    "C = blah\n",
    "k = blah\n",
    "chi_h = blah\n",
    "chi_hbar = blah\n",
    "gamma_h = blah\n",
    "gamma_hbar = blah\n",
    "\n",
    "# Calculated Values\n",
    "sigma_h = (C*k*chi_h)/(2*abs(gamma_h))\n",
    "sigma_hbar = (C*k*chi_hbar)/(2*abs(gamma_hbar))\n"
   ]
  },
  {
   "cell_type": "markdown",
   "metadata": {},
   "source": [
    "B is defined as \n",
    "\n",
    "$$B=\\frac{1}{2}b G_h cos(\\phi_a\\gamma_0\\gamma_h).$$"
   ]
  },
  {
   "cell_type": "code",
   "execution_count": 50,
   "metadata": {},
   "outputs": [],
   "source": [
    "# User Inputs\n",
    "b = blah\n",
    "G_h = blah\n",
    "phi_a = blah\n",
    "gamma_0 = blah\n",
    "\n",
    "# Calculated Values\n",
    "B = 0.5*(b*G_h*cos(phi_a*gamma_0*gamma_h))"
   ]
  },
  {
   "cell_type": "markdown",
   "metadata": {},
   "source": [
    "Thus we defined the Cool Dude factor\n",
    "\n",
    "$$CD=\\frac{|\\sigma_h|^2}{4|B|}$$\n",
    "\n",
    "and the remaining part of the equation as the Chill Bro Ratio, $CBR$, and $R_n(q_0)$ becomes\n",
    "\n",
    "$$R_n(q_0) = CD\\cdot|CBR|^2.$$"
   ]
  },
  {
   "cell_type": "code",
   "execution_count": 21,
   "metadata": {},
   "outputs": [],
   "source": [
    "cool_dude = (abs(sigma_h)**2)/(4*abs(B))"
   ]
  },
  {
   "cell_type": "markdown",
   "metadata": {},
   "source": [
    "To establish the Chill Bro Ratio one must elucidate the function D(a,z). This function is one of three so called parabolic cylinder functions (AKA Weber Functions) which are solutions to the differential equation \n",
    "\n",
    "$$\\frac{d^2f}{dz^2}+(\\tilde{a}z^2+\\tilde{b}z+\\tilde{c})f=0.$$\n",
    "\n",
    "Conveniently the python package scipy includes this function as part of its programming. However, before excution the variables a and z must be assigned. To do this values for $\\nu$ and $q_0$ must be equated as \n",
    "\n",
    "$$\\nu=i \\frac{\\sigma_h\\sigma_\\bar{h}}{4B}$$\n",
    "and\n",
    "$$q_0=\\frac{k}{2}(\\frac{\\chi_0}{\\gamma_0}+\\frac{\\chi_0-\\alpha}{|\\gamma_h|})$$\n",
    "where\n",
    "$$\\alpha = \\frac{k_h^2-k^2}{k^2}=2\\epsilon_h$$\n",
    "and\n",
    "$$2\\epsilon_h=\\chi_0+(\\sqrt{|\\gamma|}\\sqrt{\\chi_h\\chi_\\bar{h}}|C|)[-\\eta\\pm\\sqrt{\\eta^2+S(\\gamma)}]$$\n",
    "where $S(\\gamma)$ is the sign of the $\\gamma$ value and \n",
    "$$\\eta = blah.$$\n",
    "(laplace equation parabolic cylindrical coordinates etc.)"
   ]
  },
  {
   "cell_type": "code",
   "execution_count": 41,
   "metadata": {},
   "outputs": [],
   "source": [
    "q_0 = blah\n",
    "nu = blah\n",
    "def D(a,z): pbdv(a,z)\n",
    "\n",
    "#These two values must not be complex\n",
    "#But I am not sure yet if that is the case\n",
    "#z = -1j*sqrt(1j/4/B)*q_0\n",
    "#CBR = D(-1-nu, z)/D(-nu, z)"
   ]
  },
  {
   "cell_type": "code",
   "execution_count": null,
   "metadata": {},
   "outputs": [],
   "source": []
  },
  {
   "cell_type": "code",
   "execution_count": null,
   "metadata": {},
   "outputs": [],
   "source": []
  }
 ],
 "metadata": {
  "kernelspec": {
   "display_name": "Python 3",
   "language": "python",
   "name": "python3"
  },
  "language_info": {
   "codemirror_mode": {
    "name": "ipython",
    "version": 3
   },
   "file_extension": ".py",
   "mimetype": "text/x-python",
   "name": "python",
   "nbconvert_exporter": "python",
   "pygments_lexer": "ipython3",
   "version": "3.5.2"
  }
 },
 "nbformat": 4,
 "nbformat_minor": 2
}
