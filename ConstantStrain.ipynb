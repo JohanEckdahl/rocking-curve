{
 "cells": [
  {
   "cell_type": "code",
   "execution_count": 1,
   "metadata": {},
   "outputs": [],
   "source": [
    "import matplotlib.pyplot as plt\n",
    "from cmath import sqrt, cos, sin, asin, pi\n",
    "import numpy as np\n",
    "from mpmath import mp\n",
    "\n",
    "\n",
    "def sign(n): return 1 if n >= 0 else -1\n",
    "\n",
    "#-----------------------#\n",
    "#   Physical Constants  #\n",
    "#-----------------------#\n",
    "e_charge = 1.602e-19\n",
    "c_light = 2.99792458e8\n",
    "hbar = 1.0545887e-34\n",
    "keV = e_charge*1000.\n",
    "\n",
    "\n",
    "#--------------------------#\n",
    "#   User Input Variables   #\n",
    "#--------------------------#\n",
    "E = 4.0*keV\n",
    "phi_a = 0.0\n",
    "d_h = 3.1355e-10\n",
    "pol = 's'\n",
    "\n",
    "chi_r0 =-1.0843e-4\n",
    "chi_i0 = 1.5225e-5\n",
    "\n",
    "abs_chi_rh = 5.7236e-05\n",
    "abs_chi_ih = 1.0601e-05  \n",
    "arg_crh_over_cih = -pi\n",
    "\n",
    "\n"
   ]
  },
  {
   "cell_type": "markdown",
   "metadata": {},
   "source": [
    "The amplitude ratio of reflected and refracted waves in a perfect crystal is given by \n",
    "\n",
    "$$\\xi_j=\\frac{D_{hj}}{D_{0j}}=\\frac{S(C)S(\\gamma_h)}{\\sqrt{|\\gamma|}}\\frac{\\sqrt{\\chi_h\\chi_\\bar{h}}}{\\chi_\\bar{h}}[\\eta\\pm\\sqrt{\\eta^2+S(\\gamma_h)}]$$\n",
    "\n",
    "where S(x) returns the sign of x. It follows that the rocking curve as a function of the change in incidence angle can be given by\n",
    "$$R(\\Delta\\theta)=|\\gamma|\\frac{|D_h|^2}{|D_o|^2}=|\\frac{\\chi_h}{\\chi_\\bar{h}}|\\cdot|\\eta\\pm\\sqrt{\\eta^2+S(\\gamma_h)}|^2$$\n",
    "\n",
    "with variables as functions of variables. To programatically model this equation it must be broken apart in order for the user to assign it desired values."
   ]
  },
  {
   "cell_type": "code",
   "execution_count": 2,
   "metadata": {},
   "outputs": [
    {
     "name": "stdout",
     "output_type": "stream",
     "text": [
      "E:                    4000.0  eV\n",
      "lambda:               3.0999963446023817  A\n",
      "theta_B:              (29.626135647137595+0j)\n",
      "psi_0:                (60.37386435286242+0j)\n",
      "psi_h:                (119.62613564713759+0j)\n",
      "gamma_0:              (0.49433843798475224-0j)\n",
      "gamma_h:              (-0.49433843798475213-0j)\n",
      "gamma:                (-0.9999999999999998-0j)\n",
      "chi_h*chi_hbar:       (3.163578495e-09-1.213517672e-09j) (3.163578495e-09-1.213517672e-09j)\n",
      "abs(chi_h/chi_hbar):  (1+0j) 1.0\n",
      "D_theta_0s:           (0.00012616550383379022-1.7715298311071255e-05j)\n"
     ]
    },
    {
     "data": {
      "image/png": "[encoded data removed]",
      "text/plain": [
       "<matplotlib.figure.Figure at 0x7f00da946eb8>"
      ]
     },
     "metadata": {},
     "output_type": "display_data"
    }
   ],
   "source": [
    "#-----------------------#\n",
    "#   Calculated Values   #\n",
    "#-----------------------#\n",
    "lam = 2.*pi*hbar*c_light/E\n",
    "theta_B = asin(0.5*lam/d_h)\n",
    "psi_0 = 0.5*pi - theta_B + phi_a\n",
    "psi_h = 0.5*pi + theta_B + phi_a\n",
    "\n",
    "C_pol = 1.0 if pol == 's' else cos(2.*theta_B)\n",
    "gamma_0 = cos(psi_0)\n",
    "gamma_h = cos(psi_h)\n",
    "gamma   = gamma_h/gamma_0\n",
    "\n",
    "chi_rhr = abs_chi_rh * sin(0.5*arg_crh_over_cih); \n",
    "chi_rhi =-abs_chi_rh * cos(0.5*arg_crh_over_cih); \n",
    "chi_ihr =-abs_chi_ih * sin(0.5*arg_crh_over_cih);\n",
    "chi_ihi =-abs_chi_ih * cos(0.5*arg_crh_over_cih);\n",
    "\n",
    "chi_0    = chi_r0  + 1j*chi_i0 \n",
    "chi_h    = chi_rhr + 1j*chi_rhi + 1j*(chi_ihr + 1j*chi_ihi)\n",
    "chi_hbar = chi_rhr - 1j*chi_rhi + 1j*(chi_ihr - 1j*chi_ihi)\n",
    "\n",
    "chih_times_chihbar = abs_chi_rh**2 - abs_chi_ih**2\\\n",
    "    + 2.0*1j*(chi_rhr*chi_ihr - chi_ihi*chi_rhi) \n",
    "abs_chih_over_chihbar = (abs_chi_rh**2 + abs_chi_ih**2\\\n",
    "    - 2.*(chi_rhr*chi_ihi - chi_rhi*chi_ihr))/(abs_chi_rh**2 + abs_chi_ih**2 + 2.*(chi_rhr*chi_ihi - chi_rhi*chi_ihr))\n",
    "\n",
    "D_theta_0s = -0.5*chi_0*(1.0 - gamma)/sin(2.0*theta_B)\n",
    "\n",
    "#---------------#\n",
    "#   Functions   #\n",
    "#---------------#\n",
    "\n",
    "def eta(D_theta):\n",
    "\treturn (D_theta - D_theta_0s) * sin(2.0*theta_B)\\\n",
    "        /(abs(C_pol)*sqrt(abs(gamma))*sqrt(chih_times_chihbar))\n",
    "\n",
    "def psi(D_theta):\n",
    "    return eta(D_theta) - sign(eta(D_theta).real)*sqrt(eta(D_theta)**2 + sign(gamma.real))\n",
    "\n",
    "def R(D_theta):\n",
    "\treturn abs_chih_over_chihbar * abs(psi(D_theta))**2\n",
    "\n",
    "#----------------#\n",
    "#   Print Data   #\n",
    "#----------------#\n",
    "print ('E:                   ' , E/e_charge, ' eV')\n",
    "print ('lambda:              ' , lam*1e10, ' A')\n",
    "print ('theta_B:             ' , theta_B/pi*180.)\n",
    "print ('psi_0:               ' , psi_0/pi*180.)\n",
    "print ('psi_h:               ' , psi_h/pi*180.)\n",
    "print ('gamma_0:             ' , gamma_0)\n",
    "print ('gamma_h:             ' , gamma_h)\n",
    "print ('gamma:               ' , gamma)\n",
    "print ('chi_h*chi_hbar:      ' , chih_times_chihbar, chi_h*chi_hbar)\n",
    "print ('abs(chi_h/chi_hbar): ' , abs_chih_over_chihbar, abs(chi_h/chi_hbar))\n",
    "print ('D_theta_0s:          ' , D_theta_0s)\n",
    "\n",
    "#----------#\n",
    "#   Plot   #\n",
    "#----------#\n",
    "\n",
    "x = np.arange(-.0001, .0004, 2e-6)\n",
    "points = [R(x).real for x in x]\n",
    "plt.plot(x, points)\n",
    "plt.show()\n"
   ]
  },
  {
   "cell_type": "markdown",
   "metadata": {},
   "source": [
    "The equation for the rocking curve of a crystal with a constant strain gradient is given by\n",
    "\n",
    "$$R_n(q_0)=\\frac{|\\sigma_h|^2}{4|B|}\\lvert\\frac{D(-1-\\nu,-i\\sqrt{i/4B}\\cdot q_0)}{D(-\\nu,-i\\sqrt{i/4B}\\cdot q_0)}\\rvert^2$$\n",
    "\n",
    "with variables as functions of variables. To programatically model this equation it must be broken apart in order for the user to assign it desired values.\n",
    "\n",
    "\n",
    "To begin one can extract the expression for $\\sigma_h$ and, thinking ahead, its partner $\\sigma_\\bar{h}$.\n",
    "\n",
    "$$\\sigma_h=\\frac{Ck\\chi_h}{2|\\gamma_h|},\\ \\sigma_\\bar{h}=\\frac{Ck\\chi_\\bar{h}}{2|\\gamma_\\bar{h}|}$$\n",
    "\n",
    "\n"
   ]
  },
  {
   "cell_type": "code",
   "execution_count": 3,
   "metadata": {},
   "outputs": [],
   "source": [
    "k =2*pi/lam\n",
    "gamma_hbar = gamma_h\n",
    "sigma_h = (C_pol*k*chi_h)/(2*abs(gamma_h))\n",
    "sigma_hbar = (C_pol*k*chi_hbar)/(2*abs(gamma_hbar))"
   ]
  },
  {
   "cell_type": "markdown",
   "metadata": {},
   "source": [
    "B is defined as \n",
    "\n",
    "$$B=\\frac{1}{2}b G_h cos(\\phi_a\\gamma_0\\gamma_h).$$"
   ]
  },
  {
   "cell_type": "code",
   "execution_count": 4,
   "metadata": {},
   "outputs": [],
   "source": [
    "b = 0.017640/2*100 #Strain from COMSOL, so far works only scaled by 100 :( <-sad face\n",
    "G_h = 2*pi/d_h\n",
    "B = 0.5*(b*G_h*cos(phi_a*gamma_0*gamma_h))"
   ]
  },
  {
   "cell_type": "markdown",
   "metadata": {},
   "source": [
    "Thus we define the Cool Dude Factor\n",
    "\n",
    "$$CDF=\\frac{|\\sigma_h|^2}{4|B|}$$\n",
    "\n",
    "and the remaining part of the equation as the Chill Bro Ratio, $CBR$, and $R_n(q_0)$ becomes\n",
    "\n",
    "$$R_n(q_0) = CDF\\cdot|CBR|^2.$$"
   ]
  },
  {
   "cell_type": "code",
   "execution_count": 5,
   "metadata": {},
   "outputs": [],
   "source": [
    "cool_dude = (abs(sigma_h)**2)/(4*abs(B))"
   ]
  },
  {
   "cell_type": "markdown",
   "metadata": {},
   "source": [
    "To establish the Chill Bro Ratio one must elucidate the function D(a,z). This function is one of three so called parabolic cylinder functions (AKA Weber Functions) which are solutions to the differential equation \n",
    "\n",
    "$$\\frac{d^2f}{dz^2}+(\\tilde{a}z^2+\\tilde{b}z+\\tilde{c})f=0.$$\n",
    "\n",
    "Conveniently the python package scipy includes this function as part of its programming. However, before excution the variables a and z must be assigned. To do this values for $\\nu$ and $q_0$ must be equated as \n",
    "\n",
    "$$\\nu=i \\frac{\\sigma_h\\sigma_\\bar{h}}{4B}$$\n",
    "and\n",
    "$$q_0=\\frac{k}{2}(\\frac{\\chi_0}{\\gamma_0}+\\frac{\\chi_0-\\alpha}{|\\gamma_h|})$$\n",
    "where\n",
    "$$\\alpha = \\frac{k_h^2-k^2}{k^2}=2\\epsilon_h$$\n",
    "and\n",
    "$$2\\epsilon_h=\\chi_0+(\\sqrt{|\\gamma|}\\sqrt{\\chi_h\\chi_\\bar{h}}|C|)[-\\eta\\pm\\sqrt{\\eta^2+S(\\gamma)}]$$\n",
    "where $S(\\gamma)$ is the sign of the $\\gamma$ value and \n",
    "$$\\eta = blah.$$\n",
    "(laplace equation parabolic cylindrical coordinates etc.)"
   ]
  },
  {
   "cell_type": "code",
   "execution_count": 7,
   "metadata": {},
   "outputs": [
    {
     "data": {
      "image/png": "[encoded data removed]",
      "text/plain": [
       "<matplotlib.figure.Figure at 0x7f00da82de10>"
      ]
     },
     "metadata": {},
     "output_type": "display_data"
    },
    {
     "data": {
      "image/png": "[encoded data removed]",
      "text/plain": [
       "<matplotlib.figure.Figure at 0x7f00da4a1c18>"
      ]
     },
     "metadata": {},
     "output_type": "display_data"
    },
    {
     "data": {
      "image/png": "[encoded data removed]",
      "text/plain": [
       "<matplotlib.figure.Figure at 0x7f00da48fb38>"
      ]
     },
     "metadata": {},
     "output_type": "display_data"
    }
   ],
   "source": [
    "nu = 1j*(sigma_h*sigma_hbar)/(4*B)\n",
    "\n",
    "def epsilon_h(D_theta):\n",
    "    return (chi_0 + sqrt(abs(gamma))*sqrt(chi_h*chi_hbar)\\\n",
    "        *abs(C_pol)*(-1*eta(D_theta) - sign(eta(D_theta).real)\\\n",
    "        *sqrt(eta(D_theta)**2 + sign(gamma.real))))/2\n",
    "def alpha(D_theta):\n",
    "        return 2*epsilon_h(D_theta)\n",
    "def q_0(D_theta):\n",
    "        return k/2*(chi_0/gamma_0 + (chi_0 - alpha(D_theta))/abs(gamma_h))\n",
    "\n",
    "a_num = -1-nu\n",
    "a_den = -nu\n",
    "def z(D_theta):\n",
    "        return -1j*sqrt(1j/4/B)*q_0(D_theta)\n",
    "    \n",
    "def D(a,z):\n",
    "    return mp.pcfd(a,z)\n",
    "    \n",
    "def chill_bro(D_theta):\n",
    "    return D(a_num, z(D_theta))/D(a_den, z(D_theta))\n",
    "\n",
    "def R_2(D_theta):\n",
    "    return cool_dude * abs(chill_bro(D_theta))**2\n",
    "\n",
    "\n",
    "\n",
    "mp.dps=20\n",
    "\n",
    "\n",
    "t = np.arange(-.0001,0.0004,1e-5)\n",
    "#y = [R_2(x) for x in x]\n",
    "#plt.plot(x,y)\n",
    "#plt.show\n",
    "\n",
    "a =[]\n",
    "c=[]\n",
    "for t in t:\n",
    "    if True:# x < -1e-5 or x > .0004:\n",
    "        try:\n",
    "\n",
    "            c.append(R_2(t))\n",
    "            a.append(t)\n",
    "            #print(\"good\"  + str(x))\n",
    "        except:\n",
    "            print(\"not sensitive enough at \" + str(x))\n",
    "            break\n",
    "    else:\n",
    "        c.append(0)\n",
    "        a.append(t)\n",
    "#print(a)\n",
    "\n",
    "#points = [R_2(x).real for x in x]\n",
    "#print(points)\n",
    "#print(points)\n",
    "x = np.arange(-.0001, .0004, 2e-6)\n",
    "points = [R(x).real for x in x]\n",
    "plt.plot(x, points)\n",
    "plt.show()\n",
    "\n",
    "e = np.arange(-.001,.001,0.00001)\n",
    "d = [chill_bro(e).real for e in e]\n",
    "plt.plot(e,d)\n",
    "plt.show()\n",
    "plt.plot(a, c)\n",
    "plt.show()\n"
   ]
  },
  {
   "cell_type": "code",
   "execution_count": null,
   "metadata": {},
   "outputs": [],
   "source": []
  },
  {
   "cell_type": "code",
   "execution_count": null,
   "metadata": {},
   "outputs": [],
   "source": []
  },
  {
   "cell_type": "code",
   "execution_count": null,
   "metadata": {},
   "outputs": [],
   "source": []
  },
  {
   "cell_type": "code",
   "execution_count": null,
   "metadata": {},
   "outputs": [],
   "source": []
  },
  {
   "cell_type": "code",
   "execution_count": null,
   "metadata": {},
   "outputs": [],
   "source": []
  },
  {
   "cell_type": "code",
   "execution_count": null,
   "metadata": {},
   "outputs": [],
   "source": []
  },
  {
   "cell_type": "code",
   "execution_count": null,
   "metadata": {},
   "outputs": [],
   "source": []
  }
 ],
 "metadata": {
  "kernelspec": {
   "display_name": "Python 3",
   "language": "python",
   "name": "python3"
  },
  "language_info": {
   "codemirror_mode": {
    "name": "ipython",
    "version": 3
   },
   "file_extension": ".py",
   "mimetype": "text/x-python",
   "name": "python",
   "nbconvert_exporter": "python",
   "pygments_lexer": "ipython3",
   "version": "3.5.2"
  }
 },
 "nbformat": 4,
 "nbformat_minor": 2
}
